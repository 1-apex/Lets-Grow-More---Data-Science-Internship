{
 "cells": [
  {
   "cell_type": "markdown",
   "id": "371886d4",
   "metadata": {},
   "source": [
    "### Importing Libraries"
   ]
  },
  {
   "cell_type": "code",
   "execution_count": 45,
   "id": "a37b4e49",
   "metadata": {},
   "outputs": [],
   "source": [
    "import numpy as np\n",
    "import pandas as pd\n",
    "import matplotlib.pyplot as plt"
   ]
  },
  {
   "cell_type": "markdown",
   "id": "68a459db",
   "metadata": {},
   "source": [
    "### Loading Dataset"
   ]
  },
  {
   "cell_type": "code",
   "execution_count": 46,
   "id": "f4d47a02",
   "metadata": {},
   "outputs": [],
   "source": [
    "df = pd.read_csv('https://raw.githubusercontent.com/mwitiderrick/stockprice/master/NSE-TATAGLOBAL.csv')"
   ]
  },
  {
   "cell_type": "code",
   "execution_count": 47,
   "id": "0a09a6d3",
   "metadata": {},
   "outputs": [
    {
     "data": {
      "text/html": [
       "<div>\n",
       "<style scoped>\n",
       "    .dataframe tbody tr th:only-of-type {\n",
       "        vertical-align: middle;\n",
       "    }\n",
       "\n",
       "    .dataframe tbody tr th {\n",
       "        vertical-align: top;\n",
       "    }\n",
       "\n",
       "    .dataframe thead th {\n",
       "        text-align: right;\n",
       "    }\n",
       "</style>\n",
       "<table border=\"1\" class=\"dataframe\">\n",
       "  <thead>\n",
       "    <tr style=\"text-align: right;\">\n",
       "      <th></th>\n",
       "      <th>Date</th>\n",
       "      <th>Open</th>\n",
       "      <th>High</th>\n",
       "      <th>Low</th>\n",
       "      <th>Last</th>\n",
       "      <th>Close</th>\n",
       "      <th>Total Trade Quantity</th>\n",
       "      <th>Turnover (Lacs)</th>\n",
       "    </tr>\n",
       "  </thead>\n",
       "  <tbody>\n",
       "    <tr>\n",
       "      <th>0</th>\n",
       "      <td>2018-09-28</td>\n",
       "      <td>234.05</td>\n",
       "      <td>235.95</td>\n",
       "      <td>230.20</td>\n",
       "      <td>233.50</td>\n",
       "      <td>233.75</td>\n",
       "      <td>3069914</td>\n",
       "      <td>7162.35</td>\n",
       "    </tr>\n",
       "    <tr>\n",
       "      <th>1</th>\n",
       "      <td>2018-09-27</td>\n",
       "      <td>234.55</td>\n",
       "      <td>236.80</td>\n",
       "      <td>231.10</td>\n",
       "      <td>233.80</td>\n",
       "      <td>233.25</td>\n",
       "      <td>5082859</td>\n",
       "      <td>11859.95</td>\n",
       "    </tr>\n",
       "    <tr>\n",
       "      <th>2</th>\n",
       "      <td>2018-09-26</td>\n",
       "      <td>240.00</td>\n",
       "      <td>240.00</td>\n",
       "      <td>232.50</td>\n",
       "      <td>235.00</td>\n",
       "      <td>234.25</td>\n",
       "      <td>2240909</td>\n",
       "      <td>5248.60</td>\n",
       "    </tr>\n",
       "    <tr>\n",
       "      <th>3</th>\n",
       "      <td>2018-09-25</td>\n",
       "      <td>233.30</td>\n",
       "      <td>236.75</td>\n",
       "      <td>232.00</td>\n",
       "      <td>236.25</td>\n",
       "      <td>236.10</td>\n",
       "      <td>2349368</td>\n",
       "      <td>5503.90</td>\n",
       "    </tr>\n",
       "    <tr>\n",
       "      <th>4</th>\n",
       "      <td>2018-09-24</td>\n",
       "      <td>233.55</td>\n",
       "      <td>239.20</td>\n",
       "      <td>230.75</td>\n",
       "      <td>234.00</td>\n",
       "      <td>233.30</td>\n",
       "      <td>3423509</td>\n",
       "      <td>7999.55</td>\n",
       "    </tr>\n",
       "  </tbody>\n",
       "</table>\n",
       "</div>"
      ],
      "text/plain": [
       "         Date    Open    High     Low    Last   Close  Total Trade Quantity  \\\n",
       "0  2018-09-28  234.05  235.95  230.20  233.50  233.75               3069914   \n",
       "1  2018-09-27  234.55  236.80  231.10  233.80  233.25               5082859   \n",
       "2  2018-09-26  240.00  240.00  232.50  235.00  234.25               2240909   \n",
       "3  2018-09-25  233.30  236.75  232.00  236.25  236.10               2349368   \n",
       "4  2018-09-24  233.55  239.20  230.75  234.00  233.30               3423509   \n",
       "\n",
       "   Turnover (Lacs)  \n",
       "0          7162.35  \n",
       "1         11859.95  \n",
       "2          5248.60  \n",
       "3          5503.90  \n",
       "4          7999.55  "
      ]
     },
     "execution_count": 47,
     "metadata": {},
     "output_type": "execute_result"
    }
   ],
   "source": [
    "df.head()"
   ]
  },
  {
   "cell_type": "code",
   "execution_count": 48,
   "id": "763c21d5",
   "metadata": {},
   "outputs": [
    {
     "data": {
      "text/html": [
       "<div>\n",
       "<style scoped>\n",
       "    .dataframe tbody tr th:only-of-type {\n",
       "        vertical-align: middle;\n",
       "    }\n",
       "\n",
       "    .dataframe tbody tr th {\n",
       "        vertical-align: top;\n",
       "    }\n",
       "\n",
       "    .dataframe thead th {\n",
       "        text-align: right;\n",
       "    }\n",
       "</style>\n",
       "<table border=\"1\" class=\"dataframe\">\n",
       "  <thead>\n",
       "    <tr style=\"text-align: right;\">\n",
       "      <th></th>\n",
       "      <th>Date</th>\n",
       "      <th>Open</th>\n",
       "      <th>High</th>\n",
       "      <th>Low</th>\n",
       "      <th>Last</th>\n",
       "      <th>Close</th>\n",
       "      <th>Total Trade Quantity</th>\n",
       "      <th>Turnover (Lacs)</th>\n",
       "    </tr>\n",
       "  </thead>\n",
       "  <tbody>\n",
       "    <tr>\n",
       "      <th>2030</th>\n",
       "      <td>2010-07-27</td>\n",
       "      <td>117.6</td>\n",
       "      <td>119.50</td>\n",
       "      <td>112.00</td>\n",
       "      <td>118.80</td>\n",
       "      <td>118.65</td>\n",
       "      <td>586100</td>\n",
       "      <td>694.98</td>\n",
       "    </tr>\n",
       "    <tr>\n",
       "      <th>2031</th>\n",
       "      <td>2010-07-26</td>\n",
       "      <td>120.1</td>\n",
       "      <td>121.00</td>\n",
       "      <td>117.10</td>\n",
       "      <td>117.10</td>\n",
       "      <td>117.60</td>\n",
       "      <td>658440</td>\n",
       "      <td>780.01</td>\n",
       "    </tr>\n",
       "    <tr>\n",
       "      <th>2032</th>\n",
       "      <td>2010-07-23</td>\n",
       "      <td>121.8</td>\n",
       "      <td>121.95</td>\n",
       "      <td>120.25</td>\n",
       "      <td>120.35</td>\n",
       "      <td>120.65</td>\n",
       "      <td>281312</td>\n",
       "      <td>340.31</td>\n",
       "    </tr>\n",
       "    <tr>\n",
       "      <th>2033</th>\n",
       "      <td>2010-07-22</td>\n",
       "      <td>120.3</td>\n",
       "      <td>122.00</td>\n",
       "      <td>120.25</td>\n",
       "      <td>120.75</td>\n",
       "      <td>120.90</td>\n",
       "      <td>293312</td>\n",
       "      <td>355.17</td>\n",
       "    </tr>\n",
       "    <tr>\n",
       "      <th>2034</th>\n",
       "      <td>2010-07-21</td>\n",
       "      <td>122.1</td>\n",
       "      <td>123.00</td>\n",
       "      <td>121.05</td>\n",
       "      <td>121.10</td>\n",
       "      <td>121.55</td>\n",
       "      <td>658666</td>\n",
       "      <td>803.56</td>\n",
       "    </tr>\n",
       "  </tbody>\n",
       "</table>\n",
       "</div>"
      ],
      "text/plain": [
       "            Date   Open    High     Low    Last   Close  Total Trade Quantity  \\\n",
       "2030  2010-07-27  117.6  119.50  112.00  118.80  118.65                586100   \n",
       "2031  2010-07-26  120.1  121.00  117.10  117.10  117.60                658440   \n",
       "2032  2010-07-23  121.8  121.95  120.25  120.35  120.65                281312   \n",
       "2033  2010-07-22  120.3  122.00  120.25  120.75  120.90                293312   \n",
       "2034  2010-07-21  122.1  123.00  121.05  121.10  121.55                658666   \n",
       "\n",
       "      Turnover (Lacs)  \n",
       "2030           694.98  \n",
       "2031           780.01  \n",
       "2032           340.31  \n",
       "2033           355.17  \n",
       "2034           803.56  "
      ]
     },
     "execution_count": 48,
     "metadata": {},
     "output_type": "execute_result"
    }
   ],
   "source": [
    "df.tail()"
   ]
  },
  {
   "cell_type": "code",
   "execution_count": 49,
   "id": "7b1b027b",
   "metadata": {},
   "outputs": [],
   "source": [
    "df1 = df['Close']"
   ]
  },
  {
   "cell_type": "code",
   "execution_count": 50,
   "id": "5703e16a",
   "metadata": {},
   "outputs": [
    {
     "data": {
      "text/plain": [
       "(2035,)"
      ]
     },
     "execution_count": 50,
     "metadata": {},
     "output_type": "execute_result"
    }
   ],
   "source": [
    "df1.shape"
   ]
  },
  {
   "cell_type": "code",
   "execution_count": 51,
   "id": "7b53174d",
   "metadata": {},
   "outputs": [
    {
     "data": {
      "text/plain": [
       "Text(0, 0.5, 'Close values')"
      ]
     },
     "execution_count": 51,
     "metadata": {},
     "output_type": "execute_result"
    },
    {
     "data": {
      "image/png": "[encoded data removed]",
      "text/plain": [
       "<Figure size 432x288 with 1 Axes>"
      ]
     },
     "metadata": {
      "needs_background": "light"
     },
     "output_type": "display_data"
    }
   ],
   "source": [
    "plt.plot(df1)\n",
    "plt.xlabel('Stocks')\n",
    "plt.ylabel('Close values')"
   ]
  },
  {
   "cell_type": "code",
   "execution_count": 52,
   "id": "861a4093",
   "metadata": {},
   "outputs": [
    {
     "name": "stdout",
     "output_type": "stream",
     "text": [
      "325.75\n",
      "80.95\n"
     ]
    }
   ],
   "source": [
    "print(df1.max())\n",
    "print(df1.min())"
   ]
  },
  {
   "cell_type": "markdown",
   "id": "03edf57c",
   "metadata": {},
   "source": [
    "### MinMaxScalar "
   ]
  },
  {
   "cell_type": "markdown",
   "id": "d47e2cdb",
   "metadata": {},
   "source": [
    " LSTM are sensitive o scale of data, so we apply MinMax scaler to convert the data to a specific range (0-1)"
   ]
  },
  {
   "cell_type": "code",
   "execution_count": 53,
   "id": "3c222c39",
   "metadata": {},
   "outputs": [],
   "source": [
    "from sklearn.preprocessing import MinMaxScaler"
   ]
  },
  {
   "cell_type": "code",
   "execution_count": 54,
   "id": "96ef30c9",
   "metadata": {},
   "outputs": [],
   "source": [
    "# convertingthe values of Close to range 0-1\n",
    "scaler = MinMaxScaler(feature_range = (0, 1))"
   ]
  },
  {
   "cell_type": "code",
   "execution_count": 55,
   "id": "4bd497de",
   "metadata": {},
   "outputs": [],
   "source": [
    "df1 = scaler.fit_transform(np.array(df1).reshape(-1, 1))"
   ]
  },
  {
   "cell_type": "code",
   "execution_count": 56,
   "id": "dddd3f66",
   "metadata": {},
   "outputs": [
    {
     "data": {
      "text/plain": [
       "array([[0.62418301],\n",
       "       [0.62214052],\n",
       "       [0.62622549],\n",
       "       ...,\n",
       "       [0.1621732 ],\n",
       "       [0.16319444],\n",
       "       [0.16584967]])"
      ]
     },
     "execution_count": 56,
     "metadata": {},
     "output_type": "execute_result"
    }
   ],
   "source": [
    "df1"
   ]
  },
  {
   "cell_type": "code",
   "execution_count": 57,
   "id": "2a35868b",
   "metadata": {},
   "outputs": [
    {
     "data": {
      "text/plain": [
       "(2035, 1)"
      ]
     },
     "execution_count": 57,
     "metadata": {},
     "output_type": "execute_result"
    }
   ],
   "source": [
    "df1.shape"
   ]
  },
  {
   "cell_type": "markdown",
   "id": "46053c6c",
   "metadata": {},
   "source": [
    "### Train-Test Data Splitting"
   ]
  },
  {
   "cell_type": "code",
   "execution_count": 58,
   "id": "d31afc1d",
   "metadata": {},
   "outputs": [],
   "source": [
    "from sklearn.model_selection import train_test_split"
   ]
  },
  {
   "cell_type": "code",
   "execution_count": 59,
   "id": "335007ba",
   "metadata": {},
   "outputs": [
    {
     "name": "stdout",
     "output_type": "stream",
     "text": [
      "1322 713\n"
     ]
    }
   ],
   "source": [
    "# consider the training size to be 65% of out data\n",
    "training_size = int(len(df1) * 0.65)\n",
    "\n",
    "test_size = len(df1) - training_size\n",
    "\n",
    "print(training_size, test_size)"
   ]
  },
  {
   "cell_type": "code",
   "execution_count": 60,
   "id": "d6f89ebc",
   "metadata": {},
   "outputs": [],
   "source": [
    "train_data, test_data = df1[0:training_size], df1[training_size:len(df1)]"
   ]
  },
  {
   "cell_type": "code",
   "execution_count": 61,
   "id": "fe7d3d25",
   "metadata": {
    "scrolled": true
   },
   "outputs": [
    {
     "data": {
      "text/plain": [
       "array([[0.62418301],\n",
       "       [0.62214052],\n",
       "       [0.62622549],\n",
       "       ...,\n",
       "       [0.25347222],\n",
       "       [0.26041667],\n",
       "       [0.2563317 ]])"
      ]
     },
     "execution_count": 61,
     "metadata": {},
     "output_type": "execute_result"
    }
   ],
   "source": [
    "train_data"
   ]
  },
  {
   "cell_type": "code",
   "execution_count": 62,
   "id": "3761f18b",
   "metadata": {
    "scrolled": true
   },
   "outputs": [
    {
     "data": {
      "text/plain": [
       "array([[0.24652778],\n",
       "       [0.23611111],\n",
       "       [0.25204248],\n",
       "       [0.25919118],\n",
       "       [0.25776144],\n",
       "       [0.2681781 ],\n",
       "       [0.25449346],\n",
       "       [0.27103758],\n",
       "       [0.24530229],\n",
       "       [0.26756536],\n",
       "       [0.27267157],\n",
       "       [0.26633987],\n",
       "       [0.27410131],\n",
       "       [0.28615196],\n",
       "       [0.27818627],\n",
       "       [0.27205882],\n",
       "       [0.27124183],\n",
       "       [0.27798203],\n",
       "       [0.27083333],\n",
       "       [0.25857843],\n",
       "       [0.24285131],\n",
       "       [0.2250817 ],\n",
       "       [0.23447712],\n",
       "       [0.24346405],\n",
       "       [0.23611111],\n",
       "       [0.22937092],\n",
       "       [0.21527778],\n",
       "       [0.20976307],\n",
       "       [0.20751634],\n",
       "       [0.2060866 ],\n",
       "       [0.20445261],\n",
       "       [0.20098039],\n",
       "       [0.21180556],\n",
       "       [0.19301471],\n",
       "       [0.18974673],\n",
       "       [0.20302288],\n",
       "       [0.21752451],\n",
       "       [0.20629085],\n",
       "       [0.19158497],\n",
       "       [0.17381536],\n",
       "       [0.17401961],\n",
       "       [0.18361928],\n",
       "       [0.17830882],\n",
       "       [0.19362745],\n",
       "       [0.20098039],\n",
       "       [0.20486111],\n",
       "       [0.21425654],\n",
       "       [0.21813725],\n",
       "       [0.21466503],\n",
       "       [0.21343954],\n",
       "       [0.21160131],\n",
       "       [0.21711601],\n",
       "       [0.20710784],\n",
       "       [0.2005719 ],\n",
       "       [0.20874183],\n",
       "       [0.18647876],\n",
       "       [0.19199346],\n",
       "       [0.1807598 ],\n",
       "       [0.20935458],\n",
       "       [0.20792484],\n",
       "       [0.21425654],\n",
       "       [0.23366013],\n",
       "       [0.23304739],\n",
       "       [0.26184641],\n",
       "       [0.26715686],\n",
       "       [0.24897876],\n",
       "       [0.24550654],\n",
       "       [0.2373366 ],\n",
       "       [0.24754902],\n",
       "       [0.2495915 ],\n",
       "       [0.24448529],\n",
       "       [0.25142974],\n",
       "       [0.26102941],\n",
       "       [0.2504085 ],\n",
       "       [0.24734477],\n",
       "       [0.2622549 ],\n",
       "       [0.2689951 ],\n",
       "       [0.27941176],\n",
       "       [0.25714869],\n",
       "       [0.27287582],\n",
       "       [0.27246732],\n",
       "       [0.27389706],\n",
       "       [0.26368464],\n",
       "       [0.27798203],\n",
       "       [0.28962418],\n",
       "       [0.29840686],\n",
       "       [0.2943219 ],\n",
       "       [0.30228758],\n",
       "       [0.30861928],\n",
       "       [0.31699346],\n",
       "       [0.32066993],\n",
       "       [0.31740196],\n",
       "       [0.32700163],\n",
       "       [0.33292484],\n",
       "       [0.33823529],\n",
       "       [0.33415033],\n",
       "       [0.33986928],\n",
       "       [0.34681373],\n",
       "       [0.3500817 ],\n",
       "       [0.32618464],\n",
       "       [0.32271242],\n",
       "       [0.3247549 ],\n",
       "       [0.32148693],\n",
       "       [0.32352941],\n",
       "       [0.3255719 ],\n",
       "       [0.32638889],\n",
       "       [0.33496732],\n",
       "       [0.34395425],\n",
       "       [0.3441585 ],\n",
       "       [0.34599673],\n",
       "       [0.35866013],\n",
       "       [0.35580065],\n",
       "       [0.37214052],\n",
       "       [0.36294935],\n",
       "       [0.3754085 ],\n",
       "       [0.36315359],\n",
       "       [0.34640523],\n",
       "       [0.34579248],\n",
       "       [0.34844771],\n",
       "       [0.35784314],\n",
       "       [0.34722222],\n",
       "       [0.33353758],\n",
       "       [0.33537582],\n",
       "       [0.33680556],\n",
       "       [0.33680556],\n",
       "       [0.32271242],\n",
       "       [0.32638889],\n",
       "       [0.3188317 ],\n",
       "       [0.33986928],\n",
       "       [0.37765523],\n",
       "       [0.3999183 ],\n",
       "       [0.36968954],\n",
       "       [0.35886438],\n",
       "       [0.35927288],\n",
       "       [0.35294118],\n",
       "       [0.32107843],\n",
       "       [0.31413399],\n",
       "       [0.31740196],\n",
       "       [0.31597222],\n",
       "       [0.32209967],\n",
       "       [0.28267974],\n",
       "       [0.28492647],\n",
       "       [0.27389706],\n",
       "       [0.28778595],\n",
       "       [0.30187908],\n",
       "       [0.31045752],\n",
       "       [0.32128268],\n",
       "       [0.31454248],\n",
       "       [0.33129085],\n",
       "       [0.33292484],\n",
       "       [0.32802288],\n",
       "       [0.32291667],\n",
       "       [0.32802288],\n",
       "       [0.32312092],\n",
       "       [0.30718954],\n",
       "       [0.29595588],\n",
       "       [0.30473856],\n",
       "       [0.28288399],\n",
       "       [0.28982843],\n",
       "       [0.30412582],\n",
       "       [0.26429739],\n",
       "       [0.25285948],\n",
       "       [0.20710784],\n",
       "       [0.20261438],\n",
       "       [0.19566993],\n",
       "       [0.19546569],\n",
       "       [0.20465686],\n",
       "       [0.18974673],\n",
       "       [0.19934641],\n",
       "       [0.1942402 ],\n",
       "       [0.21527778],\n",
       "       [0.21629902],\n",
       "       [0.2183415 ],\n",
       "       [0.21997549],\n",
       "       [0.22222222],\n",
       "       [0.22753268],\n",
       "       [0.22732843],\n",
       "       [0.22324346],\n",
       "       [0.21527778],\n",
       "       [0.20690359],\n",
       "       [0.20200163],\n",
       "       [0.19955065],\n",
       "       [0.20159314],\n",
       "       [0.1807598 ],\n",
       "       [0.19178922],\n",
       "       [0.19403595],\n",
       "       [0.19566993],\n",
       "       [0.20445261],\n",
       "       [0.20772059],\n",
       "       [0.21221405],\n",
       "       [0.21956699],\n",
       "       [0.21629902],\n",
       "       [0.21629902],\n",
       "       [0.22140523],\n",
       "       [0.2120098 ],\n",
       "       [0.20547386],\n",
       "       [0.20077614],\n",
       "       [0.1997549 ],\n",
       "       [0.2001634 ],\n",
       "       [0.20506536],\n",
       "       [0.2005719 ],\n",
       "       [0.18831699],\n",
       "       [0.18811275],\n",
       "       [0.17034314],\n",
       "       [0.1621732 ],\n",
       "       [0.15972222],\n",
       "       [0.16278595],\n",
       "       [0.17340686],\n",
       "       [0.14174837],\n",
       "       [0.15441176],\n",
       "       [0.16503268],\n",
       "       [0.15563725],\n",
       "       [0.14460784],\n",
       "       [0.13684641],\n",
       "       [0.13582516],\n",
       "       [0.14072712],\n",
       "       [0.14501634],\n",
       "       [0.14195261],\n",
       "       [0.13562092],\n",
       "       [0.15053105],\n",
       "       [0.15727124],\n",
       "       [0.15461601],\n",
       "       [0.15767974],\n",
       "       [0.15114379],\n",
       "       [0.14297386],\n",
       "       [0.14215686],\n",
       "       [0.14787582],\n",
       "       [0.13970588],\n",
       "       [0.11642157],\n",
       "       [0.11131536],\n",
       "       [0.10927288],\n",
       "       [0.10334967],\n",
       "       [0.09783497],\n",
       "       [0.10089869],\n",
       "       [0.10906863],\n",
       "       [0.10171569],\n",
       "       [0.11254085],\n",
       "       [0.12704248],\n",
       "       [0.12214052],\n",
       "       [0.12704248],\n",
       "       [0.11519608],\n",
       "       [0.11008987],\n",
       "       [0.0996732 ],\n",
       "       [0.09640523],\n",
       "       [0.10089869],\n",
       "       [0.10886438],\n",
       "       [0.10866013],\n",
       "       [0.1186683 ],\n",
       "       [0.12316176],\n",
       "       [0.11029412],\n",
       "       [0.11703431],\n",
       "       [0.11008987],\n",
       "       [0.1064134 ],\n",
       "       [0.10559641],\n",
       "       [0.1004902 ],\n",
       "       [0.10784314],\n",
       "       [0.10988562],\n",
       "       [0.09763072],\n",
       "       [0.09027778],\n",
       "       [0.1123366 ],\n",
       "       [0.12867647],\n",
       "       [0.12071078],\n",
       "       [0.13031046],\n",
       "       [0.1439951 ],\n",
       "       [0.13664216],\n",
       "       [0.14910131],\n",
       "       [0.15686275],\n",
       "       [0.14685458],\n",
       "       [0.14481209],\n",
       "       [0.14195261],\n",
       "       [0.14093137],\n",
       "       [0.14583333],\n",
       "       [0.15339052],\n",
       "       [0.14889706],\n",
       "       [0.16646242],\n",
       "       [0.17585784],\n",
       "       [0.15604575],\n",
       "       [0.15522876],\n",
       "       [0.15339052],\n",
       "       [0.14644608],\n",
       "       [0.16441993],\n",
       "       [0.15236928],\n",
       "       [0.14889706],\n",
       "       [0.14705882],\n",
       "       [0.15012255],\n",
       "       [0.15522876],\n",
       "       [0.14052288],\n",
       "       [0.12826797],\n",
       "       [0.11172386],\n",
       "       [0.11805556],\n",
       "       [0.11887255],\n",
       "       [0.11519608],\n",
       "       [0.12969771],\n",
       "       [0.12254902],\n",
       "       [0.13786765],\n",
       "       [0.1313317 ],\n",
       "       [0.11744281],\n",
       "       [0.13071895],\n",
       "       [0.1431781 ],\n",
       "       [0.16115196],\n",
       "       [0.15175654],\n",
       "       [0.14644608],\n",
       "       [0.15216503],\n",
       "       [0.1435866 ],\n",
       "       [0.13419118],\n",
       "       [0.1431781 ],\n",
       "       [0.16115196],\n",
       "       [0.16176471],\n",
       "       [0.17320261],\n",
       "       [0.18218954],\n",
       "       [0.16237745],\n",
       "       [0.13112745],\n",
       "       [0.15931373],\n",
       "       [0.15951797],\n",
       "       [0.14808007],\n",
       "       [0.16278595],\n",
       "       [0.15625   ],\n",
       "       [0.16319444],\n",
       "       [0.16360294],\n",
       "       [0.16278595],\n",
       "       [0.16544118],\n",
       "       [0.15522876],\n",
       "       [0.17197712],\n",
       "       [0.1503268 ],\n",
       "       [0.13255719],\n",
       "       [0.14338235],\n",
       "       [0.15849673],\n",
       "       [0.1186683 ],\n",
       "       [0.11519608],\n",
       "       [0.10947712],\n",
       "       [0.0692402 ],\n",
       "       [0.06597222],\n",
       "       [0.05841503],\n",
       "       [0.05044935],\n",
       "       [0.04534314],\n",
       "       [0.04779412],\n",
       "       [0.05290033],\n",
       "       [0.04922386],\n",
       "       [0.06638072],\n",
       "       [0.07169118],\n",
       "       [0.05392157],\n",
       "       [0.04881536],\n",
       "       [0.04881536],\n",
       "       [0.05310458],\n",
       "       [0.04963235],\n",
       "       [0.05065359],\n",
       "       [0.05126634],\n",
       "       [0.04963235],\n",
       "       [0.05902778],\n",
       "       [0.05555556],\n",
       "       [0.04084967],\n",
       "       [0.03737745],\n",
       "       [0.03737745],\n",
       "       [0.02655229],\n",
       "       [0.02879902],\n",
       "       [0.0316585 ],\n",
       "       [0.0316585 ],\n",
       "       [0.03635621],\n",
       "       [0.02205882],\n",
       "       [0.01674837],\n",
       "       [0.01450163],\n",
       "       [0.02226307],\n",
       "       [0.03615196],\n",
       "       [0.02675654],\n",
       "       [0.03206699],\n",
       "       [0.02696078],\n",
       "       [0.03574346],\n",
       "       [0.03594771],\n",
       "       [0.04044118],\n",
       "       [0.03921569],\n",
       "       [0.04411765],\n",
       "       [0.02982026],\n",
       "       [0.0122549 ],\n",
       "       [0.01286765],\n",
       "       [0.01143791],\n",
       "       [0.00245098],\n",
       "       [0.0059232 ],\n",
       "       [0.        ],\n",
       "       [0.00714869],\n",
       "       [0.00428922],\n",
       "       [0.0067402 ],\n",
       "       [0.0063317 ],\n",
       "       [0.01123366],\n",
       "       [0.01960784],\n",
       "       [0.02757353],\n",
       "       [0.03002451],\n",
       "       [0.03349673],\n",
       "       [0.04003268],\n",
       "       [0.04084967],\n",
       "       [0.03982843],\n",
       "       [0.04166667],\n",
       "       [0.04370915],\n",
       "       [0.04758987],\n",
       "       [0.03594771],\n",
       "       [0.02839052],\n",
       "       [0.02410131],\n",
       "       [0.01715686],\n",
       "       [0.01531863],\n",
       "       [0.01756536],\n",
       "       [0.02696078],\n",
       "       [0.02696078],\n",
       "       [0.03819444],\n",
       "       [0.02839052],\n",
       "       [0.02369281],\n",
       "       [0.02920752],\n",
       "       [0.02328431],\n",
       "       [0.01919935],\n",
       "       [0.00653595],\n",
       "       [0.00061275],\n",
       "       [0.00796569],\n",
       "       [0.01245915],\n",
       "       [0.01981209],\n",
       "       [0.01940359],\n",
       "       [0.02246732],\n",
       "       [0.03125   ],\n",
       "       [0.02348856],\n",
       "       [0.0249183 ],\n",
       "       [0.02144608],\n",
       "       [0.04840686],\n",
       "       [0.04575163],\n",
       "       [0.03962418],\n",
       "       [0.03921569],\n",
       "       [0.04758987],\n",
       "       [0.04513889],\n",
       "       [0.04166667],\n",
       "       [0.04125817],\n",
       "       [0.05044935],\n",
       "       [0.05555556],\n",
       "       [0.05494281],\n",
       "       [0.05412582],\n",
       "       [0.0435049 ],\n",
       "       [0.04799837],\n",
       "       [0.05147059],\n",
       "       [0.05065359],\n",
       "       [0.03431373],\n",
       "       [0.04575163],\n",
       "       [0.04187092],\n",
       "       [0.04554739],\n",
       "       [0.03941993],\n",
       "       [0.02716503],\n",
       "       [0.03125   ],\n",
       "       [0.05882353],\n",
       "       [0.07148693],\n",
       "       [0.08721405],\n",
       "       [0.08986928],\n",
       "       [0.10498366],\n",
       "       [0.08905229],\n",
       "       [0.10355392],\n",
       "       [0.10375817],\n",
       "       [0.12275327],\n",
       "       [0.10906863],\n",
       "       [0.09660948],\n",
       "       [0.1064134 ],\n",
       "       [0.10457516],\n",
       "       [0.11049837],\n",
       "       [0.1127451 ],\n",
       "       [0.09803922],\n",
       "       [0.09987745],\n",
       "       [0.08925654],\n",
       "       [0.0747549 ],\n",
       "       [0.08169935],\n",
       "       [0.08925654],\n",
       "       [0.09068627],\n",
       "       [0.08129085],\n",
       "       [0.08823529],\n",
       "       [0.08455882],\n",
       "       [0.07945261],\n",
       "       [0.08374183],\n",
       "       [0.07781863],\n",
       "       [0.09824346],\n",
       "       [0.09089052],\n",
       "       [0.09007353],\n",
       "       [0.09558824],\n",
       "       [0.06862745],\n",
       "       [0.06372549],\n",
       "       [0.0494281 ],\n",
       "       [0.04799837],\n",
       "       [0.04534314],\n",
       "       [0.0443219 ],\n",
       "       [0.03941993],\n",
       "       [0.0379902 ],\n",
       "       [0.04656863],\n",
       "       [0.05085784],\n",
       "       [0.07209967],\n",
       "       [0.06535948],\n",
       "       [0.07230392],\n",
       "       [0.07802288],\n",
       "       [0.07741013],\n",
       "       [0.06086601],\n",
       "       [0.06413399],\n",
       "       [0.07046569],\n",
       "       [0.05412582],\n",
       "       [0.0498366 ],\n",
       "       [0.05167484],\n",
       "       [0.05330882],\n",
       "       [0.0435049 ],\n",
       "       [0.02634804],\n",
       "       [0.02410131],\n",
       "       [0.02961601],\n",
       "       [0.01960784],\n",
       "       [0.02961601],\n",
       "       [0.04575163],\n",
       "       [0.05923203],\n",
       "       [0.06678922],\n",
       "       [0.06229575],\n",
       "       [0.06311275],\n",
       "       [0.0629085 ],\n",
       "       [0.06658497],\n",
       "       [0.07434641],\n",
       "       [0.06944444],\n",
       "       [0.08088235],\n",
       "       [0.07700163],\n",
       "       [0.0684232 ],\n",
       "       [0.06781046],\n",
       "       [0.0629085 ],\n",
       "       [0.0692402 ],\n",
       "       [0.0755719 ],\n",
       "       [0.07781863],\n",
       "       [0.08088235],\n",
       "       [0.08843954],\n",
       "       [0.09395425],\n",
       "       [0.09599673],\n",
       "       [0.08660131],\n",
       "       [0.09027778],\n",
       "       [0.08517157],\n",
       "       [0.08374183],\n",
       "       [0.07945261],\n",
       "       [0.09109477],\n",
       "       [0.09129902],\n",
       "       [0.08803105],\n",
       "       [0.09681373],\n",
       "       [0.11417484],\n",
       "       [0.10498366],\n",
       "       [0.09987745],\n",
       "       [0.08537582],\n",
       "       [0.08047386],\n",
       "       [0.06862745],\n",
       "       [0.06576797],\n",
       "       [0.06147876],\n",
       "       [0.07169118],\n",
       "       [0.07026144],\n",
       "       [0.0747549 ],\n",
       "       [0.06821895],\n",
       "       [0.0692402 ],\n",
       "       [0.07066993],\n",
       "       [0.06801471],\n",
       "       [0.06678922],\n",
       "       [0.07414216],\n",
       "       [0.07169118],\n",
       "       [0.08639706],\n",
       "       [0.08312908],\n",
       "       [0.06311275],\n",
       "       [0.0629085 ],\n",
       "       [0.05167484],\n",
       "       [0.03186275],\n",
       "       [0.04003268],\n",
       "       [0.03860294],\n",
       "       [0.04105392],\n",
       "       [0.03390523],\n",
       "       [0.03125   ],\n",
       "       [0.02634804],\n",
       "       [0.05861928],\n",
       "       [0.06311275],\n",
       "       [0.0620915 ],\n",
       "       [0.05535131],\n",
       "       [0.08455882],\n",
       "       [0.05514706],\n",
       "       [0.06045752],\n",
       "       [0.0557598 ],\n",
       "       [0.0439134 ],\n",
       "       [0.02920752],\n",
       "       [0.02818627],\n",
       "       [0.04718137],\n",
       "       [0.06045752],\n",
       "       [0.05861928],\n",
       "       [0.06168301],\n",
       "       [0.06699346],\n",
       "       [0.07087418],\n",
       "       [0.0755719 ],\n",
       "       [0.07700163],\n",
       "       [0.10375817],\n",
       "       [0.10314542],\n",
       "       [0.10334967],\n",
       "       [0.10089869],\n",
       "       [0.10437092],\n",
       "       [0.09803922],\n",
       "       [0.09722222],\n",
       "       [0.09783497],\n",
       "       [0.09579248],\n",
       "       [0.09109477],\n",
       "       [0.09313725],\n",
       "       [0.08558007],\n",
       "       [0.09517974],\n",
       "       [0.11172386],\n",
       "       [0.12275327],\n",
       "       [0.12806373],\n",
       "       [0.1313317 ],\n",
       "       [0.12479575],\n",
       "       [0.11090686],\n",
       "       [0.10743464],\n",
       "       [0.11621732],\n",
       "       [0.11683007],\n",
       "       [0.11764706],\n",
       "       [0.12888072],\n",
       "       [0.12847222],\n",
       "       [0.13337418],\n",
       "       [0.14236111],\n",
       "       [0.14093137],\n",
       "       [0.13970588],\n",
       "       [0.13827614],\n",
       "       [0.13541667],\n",
       "       [0.13010621],\n",
       "       [0.12254902],\n",
       "       [0.12479575],\n",
       "       [0.13848039],\n",
       "       [0.14011438],\n",
       "       [0.13888889],\n",
       "       [0.13541667],\n",
       "       [0.14011438],\n",
       "       [0.1380719 ],\n",
       "       [0.13071895],\n",
       "       [0.13071895],\n",
       "       [0.12867647],\n",
       "       [0.11846405],\n",
       "       [0.14644608],\n",
       "       [0.14808007],\n",
       "       [0.15910948],\n",
       "       [0.15992647],\n",
       "       [0.15788399],\n",
       "       [0.16441993],\n",
       "       [0.17892157],\n",
       "       [0.17933007],\n",
       "       [0.19260621],\n",
       "       [0.20812908],\n",
       "       [0.18974673],\n",
       "       [0.18055556],\n",
       "       [0.18239379],\n",
       "       [0.17708333],\n",
       "       [0.17810458],\n",
       "       [0.18055556],\n",
       "       [0.17810458],\n",
       "       [0.17851307],\n",
       "       [0.19607843],\n",
       "       [0.18913399],\n",
       "       [0.18954248],\n",
       "       [0.19403595],\n",
       "       [0.19444444],\n",
       "       [0.20200163],\n",
       "       [0.19771242],\n",
       "       [0.19934641],\n",
       "       [0.19873366],\n",
       "       [0.1997549 ],\n",
       "       [0.2128268 ],\n",
       "       [0.21568627],\n",
       "       [0.20445261],\n",
       "       [0.21772876],\n",
       "       [0.21098856],\n",
       "       [0.21425654],\n",
       "       [0.19750817],\n",
       "       [0.18811275],\n",
       "       [0.17851307],\n",
       "       [0.17381536],\n",
       "       [0.16033497],\n",
       "       [0.16564542],\n",
       "       [0.17116013],\n",
       "       [0.17422386],\n",
       "       [0.18035131],\n",
       "       [0.17401961],\n",
       "       [0.16278595],\n",
       "       [0.16973039],\n",
       "       [0.17810458],\n",
       "       [0.17034314],\n",
       "       [0.16830065],\n",
       "       [0.17279412],\n",
       "       [0.17544935],\n",
       "       [0.18382353],\n",
       "       [0.19138072],\n",
       "       [0.18913399],\n",
       "       [0.19097222],\n",
       "       [0.17238562],\n",
       "       [0.16830065],\n",
       "       [0.1693219 ],\n",
       "       [0.17177288],\n",
       "       [0.16156046],\n",
       "       [0.14971405],\n",
       "       [0.1503268 ],\n",
       "       [0.15196078],\n",
       "       [0.14726307],\n",
       "       [0.14501634],\n",
       "       [0.14603758],\n",
       "       [0.12479575],\n",
       "       [0.13112745],\n",
       "       [0.11397059],\n",
       "       [0.1190768 ],\n",
       "       [0.12377451],\n",
       "       [0.13562092],\n",
       "       [0.12908497],\n",
       "       [0.13459967],\n",
       "       [0.12806373],\n",
       "       [0.13031046],\n",
       "       [0.12724673],\n",
       "       [0.13521242],\n",
       "       [0.14522059],\n",
       "       [0.15257353],\n",
       "       [0.14848856],\n",
       "       [0.14338235],\n",
       "       [0.14562908],\n",
       "       [0.15236928],\n",
       "       [0.15400327],\n",
       "       [0.14971405],\n",
       "       [0.1621732 ],\n",
       "       [0.16319444],\n",
       "       [0.16584967]])"
      ]
     },
     "execution_count": 62,
     "metadata": {},
     "output_type": "execute_result"
    }
   ],
   "source": [
    "test_data"
   ]
  },
  {
   "cell_type": "code",
   "execution_count": 63,
   "id": "25edc647",
   "metadata": {},
   "outputs": [],
   "source": [
    "def create_dataset(dataset, time_step = 1):\n",
    "    dataX, dataY = [], []\n",
    "    \n",
    "    for i in range(len(dataset) - time_step - 1):\n",
    "        a = dataset[i:(i+time_step), 0]\n",
    "        dataX.append(a)\n",
    "        dataY.append(dataset[i + time_step, 0])\n",
    "        \n",
    "    return np.array(dataX), np.array(dataY)"
   ]
  },
  {
   "cell_type": "code",
   "execution_count": 64,
   "id": "93ed0e09",
   "metadata": {},
   "outputs": [],
   "source": [
    "# reshape into X = t, t+1, t+2, t+3 .... Y = t+4 ----> time_step = 4\n",
    "\n",
    "time_step = 100\n",
    "\n",
    "X_train, y_train = create_dataset(train_data, time_step)\n",
    "X_test, y_test = create_dataset(test_data, time_step)"
   ]
  },
  {
   "cell_type": "code",
   "execution_count": 65,
   "id": "049df683",
   "metadata": {},
   "outputs": [
    {
     "name": "stdout",
     "output_type": "stream",
     "text": [
      "[[0.62418301 0.62214052 0.62622549 ... 0.83455882 0.86213235 0.85273693]\n",
      " [0.62214052 0.62622549 0.63378268 ... 0.86213235 0.85273693 0.87111928]\n",
      " [0.62622549 0.63378268 0.62234477 ... 0.85273693 0.87111928 0.84497549]\n",
      " ...\n",
      " [0.34517974 0.31781046 0.33047386 ... 0.2816585  0.27001634 0.26531863]\n",
      " [0.31781046 0.33047386 0.32128268 ... 0.27001634 0.26531863 0.27389706]\n",
      " [0.33047386 0.32128268 0.34007353 ... 0.26531863 0.27389706 0.25347222]]\n"
     ]
    }
   ],
   "source": [
    "print(X_train)"
   ]
  },
  {
   "cell_type": "code",
   "execution_count": 66,
   "id": "ba3207ee",
   "metadata": {},
   "outputs": [
    {
     "data": {
      "text/plain": [
       "(1221, 100)"
      ]
     },
     "execution_count": 66,
     "metadata": {},
     "output_type": "execute_result"
    }
   ],
   "source": [
    "X_train.shape"
   ]
  },
  {
   "cell_type": "code",
   "execution_count": 67,
   "id": "c4d36061",
   "metadata": {},
   "outputs": [
    {
     "data": {
      "text/plain": [
       "(1221,)"
      ]
     },
     "execution_count": 67,
     "metadata": {},
     "output_type": "execute_result"
    }
   ],
   "source": [
    "y_train.shape"
   ]
  },
  {
   "cell_type": "code",
   "execution_count": 68,
   "id": "418411ed",
   "metadata": {},
   "outputs": [
    {
     "data": {
      "text/plain": [
       "(612, 100)"
      ]
     },
     "execution_count": 68,
     "metadata": {},
     "output_type": "execute_result"
    }
   ],
   "source": [
    "X_test.shape"
   ]
  },
  {
   "cell_type": "code",
   "execution_count": 69,
   "id": "c1186263",
   "metadata": {},
   "outputs": [
    {
     "data": {
      "text/plain": [
       "(612,)"
      ]
     },
     "execution_count": 69,
     "metadata": {},
     "output_type": "execute_result"
    }
   ],
   "source": [
    "y_test.shape"
   ]
  },
  {
   "cell_type": "code",
   "execution_count": 70,
   "id": "574319c0",
   "metadata": {},
   "outputs": [],
   "source": [
    "# reshape input to be [samples, time_steps, features] which is required for LSTM\n",
    "\n",
    "X_train = X_train.reshape(X_train.shape[0], X_train.shape[1], 1)\n",
    "X_test = X_test.reshape(X_test.shape[0], X_test.shape[1], 1)"
   ]
  },
  {
   "cell_type": "markdown",
   "id": "9c63303f",
   "metadata": {},
   "source": [
    "### Creating a stacked LSTM Model"
   ]
  },
  {
   "cell_type": "code",
   "execution_count": 71,
   "id": "8484c854",
   "metadata": {},
   "outputs": [],
   "source": [
    "from tensorflow.keras.models import Sequential\n",
    "from tensorflow.keras.layers import Dense\n",
    "from tensorflow.keras.layers import LSTM"
   ]
  },
  {
   "cell_type": "code",
   "execution_count": 72,
   "id": "8870fda3",
   "metadata": {},
   "outputs": [],
   "source": [
    "#22.00\n",
    "model = Sequential()\n",
    "model.add(LSTM(50, return_sequences=True, input_shape=(100, 1)))\n",
    "model.add(LSTM(50, return_sequences=True))\n",
    "model.add(LSTM(50))\n",
    "model.add(Dense(1))\n",
    "model.compile(loss='mean_squared_error', optimizer='adam')"
   ]
  },
  {
   "cell_type": "code",
   "execution_count": 73,
   "id": "b36d5ba8",
   "metadata": {},
   "outputs": [
    {
     "name": "stdout",
     "output_type": "stream",
     "text": [
      "Model: \"sequential_2\"\n",
      "_________________________________________________________________\n",
      " Layer (type)                Output Shape              Param #   \n",
      "=================================================================\n",
      " lstm_6 (LSTM)               (None, 100, 50)           10400     \n",
      "                                                                 \n",
      " lstm_7 (LSTM)               (None, 100, 50)           20200     \n",
      "                                                                 \n",
      " lstm_8 (LSTM)               (None, 50)                20200     \n",
      "                                                                 \n",
      " dense_2 (Dense)             (None, 1)                 51        \n",
      "                                                                 \n",
      "=================================================================\n",
      "Total params: 50,851\n",
      "Trainable params: 50,851\n",
      "Non-trainable params: 0\n",
      "_________________________________________________________________\n"
     ]
    }
   ],
   "source": [
    "model.summary()"
   ]
  },
  {
   "cell_type": "markdown",
   "id": "5ff79bfc",
   "metadata": {},
   "source": [
    "### Model Training and Evaluation"
   ]
  },
  {
   "cell_type": "code",
   "execution_count": 74,
   "id": "a1245f5e",
   "metadata": {},
   "outputs": [
    {
     "name": "stdout",
     "output_type": "stream",
     "text": [
      "Epoch 1/100\n",
      "20/20 [==============================] - 7s 167ms/step - loss: 0.0312 - val_loss: 0.0042\n",
      "Epoch 2/100\n",
      "20/20 [==============================] - 2s 120ms/step - loss: 0.0030 - val_loss: 0.0017\n",
      "Epoch 3/100\n",
      "20/20 [==============================] - 2s 124ms/step - loss: 0.0016 - val_loss: 0.0017\n",
      "Epoch 4/100\n",
      "20/20 [==============================] - 2s 119ms/step - loss: 0.0016 - val_loss: 0.0016\n",
      "Epoch 5/100\n",
      "20/20 [==============================] - 2s 120ms/step - loss: 0.0015 - val_loss: 0.0013\n",
      "Epoch 6/100\n",
      "20/20 [==============================] - 2s 119ms/step - loss: 0.0015 - val_loss: 0.0017\n",
      "Epoch 7/100\n",
      "20/20 [==============================] - 2s 125ms/step - loss: 0.0014 - val_loss: 0.0015\n",
      "Epoch 8/100\n",
      "20/20 [==============================] - 2s 120ms/step - loss: 0.0014 - val_loss: 0.0015\n",
      "Epoch 9/100\n",
      "20/20 [==============================] - 2s 122ms/step - loss: 0.0013 - val_loss: 0.0013\n",
      "Epoch 10/100\n",
      "20/20 [==============================] - 2s 120ms/step - loss: 0.0012 - val_loss: 0.0013\n",
      "Epoch 11/100\n",
      "20/20 [==============================] - 2s 121ms/step - loss: 0.0011 - val_loss: 9.9074e-04\n",
      "Epoch 12/100\n",
      "20/20 [==============================] - 4s 206ms/step - loss: 0.0010 - val_loss: 0.0011\n",
      "Epoch 13/100\n",
      "20/20 [==============================] - 4s 214ms/step - loss: 0.0013 - val_loss: 0.0015\n",
      "Epoch 14/100\n",
      "20/20 [==============================] - 5s 236ms/step - loss: 0.0011 - val_loss: 0.0011\n",
      "Epoch 15/100\n",
      "20/20 [==============================] - 4s 227ms/step - loss: 9.3657e-04 - val_loss: 8.7793e-04\n",
      "Epoch 16/100\n",
      "20/20 [==============================] - 4s 219ms/step - loss: 0.0011 - val_loss: 7.5744e-04\n",
      "Epoch 17/100\n",
      "20/20 [==============================] - 5s 244ms/step - loss: 8.6738e-04 - val_loss: 9.2713e-04\n",
      "Epoch 18/100\n",
      "20/20 [==============================] - 4s 229ms/step - loss: 8.1708e-04 - val_loss: 0.0010\n",
      "Epoch 19/100\n",
      "20/20 [==============================] - 5s 242ms/step - loss: 9.2812e-04 - val_loss: 0.0011\n",
      "Epoch 20/100\n",
      "20/20 [==============================] - 5s 241ms/step - loss: 7.5211e-04 - val_loss: 7.8544e-04\n",
      "Epoch 21/100\n",
      "20/20 [==============================] - 5s 250ms/step - loss: 7.3023e-04 - val_loss: 0.0010\n",
      "Epoch 22/100\n",
      "20/20 [==============================] - 5s 246ms/step - loss: 8.7505e-04 - val_loss: 0.0011\n",
      "Epoch 23/100\n",
      "20/20 [==============================] - 5s 249ms/step - loss: 7.2800e-04 - val_loss: 8.5468e-04\n",
      "Epoch 24/100\n",
      "20/20 [==============================] - 5s 263ms/step - loss: 6.5993e-04 - val_loss: 6.4601e-04\n",
      "Epoch 25/100\n",
      "20/20 [==============================] - 5s 255ms/step - loss: 6.3494e-04 - val_loss: 0.0011\n",
      "Epoch 26/100\n",
      "20/20 [==============================] - 5s 268ms/step - loss: 9.9306e-04 - val_loss: 0.0012\n",
      "Epoch 27/100\n",
      "20/20 [==============================] - 5s 270ms/step - loss: 6.3686e-04 - val_loss: 6.9801e-04\n",
      "Epoch 28/100\n",
      "20/20 [==============================] - 5s 278ms/step - loss: 5.7541e-04 - val_loss: 8.5458e-04\n",
      "Epoch 29/100\n",
      "20/20 [==============================] - 6s 280ms/step - loss: 5.9837e-04 - val_loss: 7.2194e-04\n",
      "Epoch 30/100\n",
      "20/20 [==============================] - 6s 287ms/step - loss: 5.4854e-04 - val_loss: 7.8261e-04\n",
      "Epoch 31/100\n",
      "20/20 [==============================] - 6s 294ms/step - loss: 5.4075e-04 - val_loss: 5.7997e-04\n",
      "Epoch 32/100\n",
      "20/20 [==============================] - 6s 300ms/step - loss: 5.2419e-04 - val_loss: 4.9148e-04\n",
      "Epoch 33/100\n",
      "20/20 [==============================] - 6s 318ms/step - loss: 5.9094e-04 - val_loss: 7.4162e-04\n",
      "Epoch 34/100\n",
      "20/20 [==============================] - 6s 299ms/step - loss: 5.6810e-04 - val_loss: 5.3719e-04\n",
      "Epoch 35/100\n",
      "20/20 [==============================] - 6s 312ms/step - loss: 5.7805e-04 - val_loss: 6.7751e-04\n",
      "Epoch 36/100\n",
      "20/20 [==============================] - 6s 308ms/step - loss: 4.8134e-04 - val_loss: 4.8384e-04\n",
      "Epoch 37/100\n",
      "20/20 [==============================] - 6s 309ms/step - loss: 4.7719e-04 - val_loss: 5.1777e-04\n",
      "Epoch 38/100\n",
      "20/20 [==============================] - 6s 309ms/step - loss: 4.4172e-04 - val_loss: 6.2779e-04\n",
      "Epoch 39/100\n",
      "20/20 [==============================] - 6s 314ms/step - loss: 4.5521e-04 - val_loss: 4.3886e-04\n",
      "Epoch 40/100\n",
      "20/20 [==============================] - 6s 317ms/step - loss: 4.1417e-04 - val_loss: 4.8900e-04\n",
      "Epoch 41/100\n",
      "20/20 [==============================] - 6s 324ms/step - loss: 4.4037e-04 - val_loss: 4.4227e-04\n",
      "Epoch 42/100\n",
      "20/20 [==============================] - 7s 330ms/step - loss: 4.9051e-04 - val_loss: 5.7432e-04\n",
      "Epoch 43/100\n",
      "20/20 [==============================] - 6s 327ms/step - loss: 4.2837e-04 - val_loss: 4.1568e-04\n",
      "Epoch 44/100\n",
      "20/20 [==============================] - 7s 332ms/step - loss: 4.2836e-04 - val_loss: 4.6506e-04\n",
      "Epoch 45/100\n",
      "20/20 [==============================] - 6s 322ms/step - loss: 3.5700e-04 - val_loss: 4.9985e-04\n",
      "Epoch 46/100\n",
      "20/20 [==============================] - 6s 320ms/step - loss: 3.7008e-04 - val_loss: 4.7280e-04\n",
      "Epoch 47/100\n",
      "20/20 [==============================] - 6s 325ms/step - loss: 3.8270e-04 - val_loss: 3.5291e-04\n",
      "Epoch 48/100\n",
      "20/20 [==============================] - 6s 322ms/step - loss: 3.6070e-04 - val_loss: 3.1189e-04\n",
      "Epoch 49/100\n",
      "20/20 [==============================] - 7s 344ms/step - loss: 3.7881e-04 - val_loss: 3.5312e-04\n",
      "Epoch 50/100\n",
      "20/20 [==============================] - 7s 335ms/step - loss: 4.2957e-04 - val_loss: 3.7030e-04\n",
      "Epoch 51/100\n",
      "20/20 [==============================] - 6s 323ms/step - loss: 3.5573e-04 - val_loss: 4.1777e-04\n",
      "Epoch 52/100\n",
      "20/20 [==============================] - 7s 331ms/step - loss: 5.9813e-04 - val_loss: 4.5194e-04\n",
      "Epoch 53/100\n",
      "20/20 [==============================] - 6s 323ms/step - loss: 4.1201e-04 - val_loss: 5.7647e-04\n",
      "Epoch 54/100\n",
      "20/20 [==============================] - 7s 330ms/step - loss: 3.7888e-04 - val_loss: 3.0712e-04\n",
      "Epoch 55/100\n",
      "20/20 [==============================] - 6s 318ms/step - loss: 3.2994e-04 - val_loss: 3.0300e-04\n",
      "Epoch 56/100\n",
      "20/20 [==============================] - 6s 319ms/step - loss: 3.0782e-04 - val_loss: 3.4931e-04\n",
      "Epoch 57/100\n",
      "20/20 [==============================] - 6s 319ms/step - loss: 2.9689e-04 - val_loss: 2.7032e-04\n",
      "Epoch 58/100\n",
      "20/20 [==============================] - 6s 321ms/step - loss: 3.2063e-04 - val_loss: 3.5779e-04\n",
      "Epoch 59/100\n",
      "20/20 [==============================] - 6s 321ms/step - loss: 2.8613e-04 - val_loss: 2.6118e-04\n",
      "Epoch 60/100\n",
      "20/20 [==============================] - 6s 323ms/step - loss: 3.1786e-04 - val_loss: 3.5058e-04\n",
      "Epoch 61/100\n",
      "20/20 [==============================] - 7s 334ms/step - loss: 2.8091e-04 - val_loss: 2.8428e-04\n",
      "Epoch 62/100\n",
      "20/20 [==============================] - 6s 320ms/step - loss: 2.9507e-04 - val_loss: 2.8388e-04\n",
      "Epoch 63/100\n",
      "20/20 [==============================] - 6s 319ms/step - loss: 3.5178e-04 - val_loss: 2.9999e-04\n",
      "Epoch 64/100\n",
      "20/20 [==============================] - 6s 327ms/step - loss: 3.2516e-04 - val_loss: 3.8229e-04\n",
      "Epoch 65/100\n",
      "20/20 [==============================] - 6s 322ms/step - loss: 3.0044e-04 - val_loss: 3.9418e-04\n",
      "Epoch 66/100\n",
      "20/20 [==============================] - 6s 322ms/step - loss: 3.3649e-04 - val_loss: 2.5807e-04\n",
      "Epoch 67/100\n",
      "20/20 [==============================] - 7s 330ms/step - loss: 2.8638e-04 - val_loss: 2.5263e-04\n",
      "Epoch 68/100\n",
      "20/20 [==============================] - 7s 337ms/step - loss: 2.6291e-04 - val_loss: 2.9467e-04\n",
      "Epoch 69/100\n",
      "20/20 [==============================] - 6s 327ms/step - loss: 3.1287e-04 - val_loss: 5.3073e-04\n",
      "Epoch 70/100\n",
      "20/20 [==============================] - 6s 322ms/step - loss: 3.6805e-04 - val_loss: 2.9337e-04\n",
      "Epoch 71/100\n",
      "20/20 [==============================] - 6s 327ms/step - loss: 2.4595e-04 - val_loss: 2.5433e-04\n",
      "Epoch 72/100\n",
      "20/20 [==============================] - 6s 322ms/step - loss: 2.3969e-04 - val_loss: 2.2944e-04\n",
      "Epoch 73/100\n",
      "20/20 [==============================] - 6s 326ms/step - loss: 2.5758e-04 - val_loss: 2.7620e-04\n",
      "Epoch 74/100\n",
      "20/20 [==============================] - 6s 325ms/step - loss: 2.5215e-04 - val_loss: 2.2274e-04\n",
      "Epoch 75/100\n",
      "20/20 [==============================] - 7s 329ms/step - loss: 2.4722e-04 - val_loss: 3.4538e-04\n",
      "Epoch 76/100\n",
      "20/20 [==============================] - 6s 326ms/step - loss: 2.6379e-04 - val_loss: 2.6241e-04\n"
     ]
    },
    {
     "name": "stdout",
     "output_type": "stream",
     "text": [
      "Epoch 77/100\n",
      "20/20 [==============================] - 6s 326ms/step - loss: 2.9761e-04 - val_loss: 2.4434e-04\n",
      "Epoch 78/100\n",
      "20/20 [==============================] - 7s 339ms/step - loss: 2.7072e-04 - val_loss: 2.1506e-04\n",
      "Epoch 79/100\n",
      "20/20 [==============================] - 6s 326ms/step - loss: 2.8730e-04 - val_loss: 2.8950e-04\n",
      "Epoch 80/100\n",
      "20/20 [==============================] - 7s 351ms/step - loss: 2.8049e-04 - val_loss: 2.6980e-04\n",
      "Epoch 81/100\n",
      "20/20 [==============================] - 7s 360ms/step - loss: 2.4865e-04 - val_loss: 2.2003e-04\n",
      "Epoch 82/100\n",
      "20/20 [==============================] - 7s 327ms/step - loss: 4.2686e-04 - val_loss: 5.0485e-04\n",
      "Epoch 83/100\n",
      "20/20 [==============================] - 7s 328ms/step - loss: 3.6340e-04 - val_loss: 2.6629e-04\n",
      "Epoch 84/100\n",
      "20/20 [==============================] - 6s 327ms/step - loss: 3.1845e-04 - val_loss: 2.4633e-04\n",
      "Epoch 85/100\n",
      "20/20 [==============================] - 7s 341ms/step - loss: 2.4012e-04 - val_loss: 1.9791e-04\n",
      "Epoch 86/100\n",
      "20/20 [==============================] - 7s 352ms/step - loss: 2.3069e-04 - val_loss: 2.1336e-04\n",
      "Epoch 87/100\n",
      "20/20 [==============================] - 7s 348ms/step - loss: 2.1781e-04 - val_loss: 1.7701e-04\n",
      "Epoch 88/100\n",
      "20/20 [==============================] - 6s 322ms/step - loss: 2.3099e-04 - val_loss: 2.9848e-04\n",
      "Epoch 89/100\n",
      "20/20 [==============================] - 6s 325ms/step - loss: 2.5071e-04 - val_loss: 2.0087e-04\n",
      "Epoch 90/100\n",
      "20/20 [==============================] - 7s 338ms/step - loss: 2.1627e-04 - val_loss: 2.5838e-04\n",
      "Epoch 91/100\n",
      "20/20 [==============================] - 7s 332ms/step - loss: 2.2566e-04 - val_loss: 2.2687e-04\n",
      "Epoch 92/100\n",
      "20/20 [==============================] - 6s 323ms/step - loss: 2.3363e-04 - val_loss: 2.3539e-04\n",
      "Epoch 93/100\n",
      "20/20 [==============================] - 7s 332ms/step - loss: 2.0759e-04 - val_loss: 2.3633e-04\n",
      "Epoch 94/100\n",
      "20/20 [==============================] - 6s 317ms/step - loss: 2.0968e-04 - val_loss: 2.0170e-04\n",
      "Epoch 95/100\n",
      "20/20 [==============================] - 6s 326ms/step - loss: 2.7936e-04 - val_loss: 1.7492e-04\n",
      "Epoch 96/100\n",
      "20/20 [==============================] - 7s 337ms/step - loss: 2.6556e-04 - val_loss: 1.7871e-04\n",
      "Epoch 97/100\n",
      "20/20 [==============================] - 6s 323ms/step - loss: 3.2649e-04 - val_loss: 1.9912e-04\n",
      "Epoch 98/100\n",
      "20/20 [==============================] - 6s 319ms/step - loss: 3.4816e-04 - val_loss: 1.5668e-04\n",
      "Epoch 99/100\n",
      "20/20 [==============================] - 6s 322ms/step - loss: 2.3744e-04 - val_loss: 1.8408e-04\n",
      "Epoch 100/100\n",
      "20/20 [==============================] - 7s 334ms/step - loss: 2.2724e-04 - val_loss: 1.8564e-04\n"
     ]
    },
    {
     "data": {
      "text/plain": [
       "<keras.callbacks.History at 0x2ae9de6f820>"
      ]
     },
     "execution_count": 74,
     "metadata": {},
     "output_type": "execute_result"
    }
   ],
   "source": [
    "model.fit(X_train, y_train, validation_data = (X_test, y_test), epochs = 100, batch_size = 64, verbose = 1)"
   ]
  },
  {
   "cell_type": "code",
   "execution_count": 75,
   "id": "2706c121",
   "metadata": {},
   "outputs": [],
   "source": [
    "import tensorflow as tf"
   ]
  },
  {
   "cell_type": "code",
   "execution_count": 76,
   "id": "5cf31592",
   "metadata": {},
   "outputs": [
    {
     "data": {
      "text/plain": [
       "'2.11.0'"
      ]
     },
     "execution_count": 76,
     "metadata": {},
     "output_type": "execute_result"
    }
   ],
   "source": [
    "tf.__version__"
   ]
  },
  {
   "cell_type": "code",
   "execution_count": 77,
   "id": "98358940",
   "metadata": {},
   "outputs": [
    {
     "name": "stdout",
     "output_type": "stream",
     "text": [
      "39/39 [==============================] - 4s 63ms/step\n",
      "20/20 [==============================] - 1s 65ms/step\n"
     ]
    }
   ],
   "source": [
    "# predicting and checking the preformance matrix\n",
    "\n",
    "train_predict = model.predict(X_train)\n",
    "\n",
    "test_predict = model.predict(X_test)"
   ]
  },
  {
   "cell_type": "code",
   "execution_count": 78,
   "id": "fb0f2dbd",
   "metadata": {},
   "outputs": [],
   "source": [
    "# transform back to the original matrix\n",
    "\n",
    "train_predict = scaler.inverse_transform(train_predict)\n",
    "test_predict = scaler.inverse_transform(test_predict)"
   ]
  },
  {
   "cell_type": "code",
   "execution_count": 79,
   "id": "c2b2e180",
   "metadata": {},
   "outputs": [],
   "source": [
    "import math"
   ]
  },
  {
   "cell_type": "code",
   "execution_count": 81,
   "id": "2dc26bd2",
   "metadata": {},
   "outputs": [],
   "source": [
    "# calculating RSME performance metrics\n",
    "\n",
    "from sklearn.metrics import mean_squared_error"
   ]
  },
  {
   "cell_type": "code",
   "execution_count": 82,
   "id": "d18209aa",
   "metadata": {},
   "outputs": [
    {
     "data": {
      "text/plain": [
       "164.42300930733137"
      ]
     },
     "execution_count": 82,
     "metadata": {},
     "output_type": "execute_result"
    }
   ],
   "source": [
    "math.sqrt(mean_squared_error(y_train, train_predict))"
   ]
  },
  {
   "cell_type": "code",
   "execution_count": 83,
   "id": "b5083a17",
   "metadata": {},
   "outputs": [
    {
     "data": {
      "text/plain": [
       "115.61377745668469"
      ]
     },
     "execution_count": 83,
     "metadata": {},
     "output_type": "execute_result"
    }
   ],
   "source": [
    "math.sqrt(mean_squared_error(y_test, test_predict))"
   ]
  },
  {
   "cell_type": "code",
   "execution_count": 87,
   "id": "ddaaf559",
   "metadata": {},
   "outputs": [
    {
     "data": {
      "image/png": "[encoded data removed]",
      "text/plain": [
       "<Figure size 432x288 with 1 Axes>"
      ]
     },
     "metadata": {
      "needs_background": "light"
     },
     "output_type": "display_data"
    }
   ],
   "source": [
    "look_back = 100\n",
    "trainPredictPlot = np.empty_like(df1)\n",
    "trainPredictPlot[:, :] = np.nan\n",
    "trainPredictPlot[look_back:len(train_predict) + look_back, :] = train_predict\n",
    "\n",
    "testPredictPLot = np.empty_like(df1)\n",
    "testPredictPLot[:, :] = np.nan\n",
    "testPredictPLot[len(train_predict) + (look_back * 2) + 1: len(df1) - 1, :] = test_predict\n",
    "\n",
    "plt.plot(scaler.inverse_transform(df1))\n",
    "plt.plot(trainPredictPlot)\n",
    "plt.plot(testPredictPLot)\n",
    "plt.show()"
   ]
  },
  {
   "cell_type": "code",
   "execution_count": null,
   "id": "675d7d8d",
   "metadata": {},
   "outputs": [],
   "source": [
    "# 30.00\n",
    "https://www.youtube.com/watch?v=H6du_pfuznE&t=1210s"
   ]
  }
 ],
 "metadata": {
  "kernelspec": {
   "display_name": "Python 3 (ipykernel)",
   "language": "python",
   "name": "python3"
  },
  "language_info": {
   "codemirror_mode": {
    "name": "ipython",
    "version": 3
   },
   "file_extension": ".py",
   "mimetype": "text/x-python",
   "name": "python",
   "nbconvert_exporter": "python",
   "pygments_lexer": "ipython3",
   "version": "3.9.12"
  }
 },
 "nbformat": 4,
 "nbformat_minor": 5
}
